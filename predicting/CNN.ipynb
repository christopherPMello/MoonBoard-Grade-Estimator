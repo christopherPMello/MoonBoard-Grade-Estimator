{
 "cells": [
  {
   "cell_type": "code",
   "execution_count": 71,
   "metadata": {},
   "outputs": [],
   "source": [
    "import numpy as np\n",
    "import pandas as pd\n",
    "import os, json \n",
    "import matplotlib.pyplot as plt\n",
    "from imblearn.over_sampling import SMOTE\n",
    "from sklearn.model_selection import train_test_split\n",
    "from sklearn.metrics import classification_report\n",
    "import torch\n",
    "from torch import nn, optim\n",
    "import torch.nn.functional as F\n",
    "import torchvision.transforms as transforms\n",
    "import torch.utils.data as data\n",
    "from torch.autograd import Variable"
   ]
  },
  {
   "cell_type": "code",
   "execution_count": 72,
   "metadata": {},
   "outputs": [],
   "source": [
    "# Load in dataset\n",
    "df = pd.read_pickle('./problemsV8.pkl')\n",
    "label = df['grade'].values\n",
    "df = df.drop('grade',axis=1).values\n",
    "\n",
    "# Split train and test data\n",
    "train_dataset, test_dataset, train_label, test_label = train_test_split(df, label, test_size=.3, stratify=label)"
   ]
  },
  {
   "cell_type": "code",
   "execution_count": 73,
   "metadata": {},
   "outputs": [],
   "source": [
    "# Convert dataset to tensor\n",
    "class Dataset(data.Dataset):\n",
    "    def __init__(self, df, label, smote=False, conv=False):\n",
    "        self.dataset = df\n",
    "        self.label = label\n",
    "        if smote: self.__smote__() \n",
    "        \n",
    "    def __getitem__(self, index):\n",
    "            return torch.Tensor(self.dataset[index].astype(float)), self.label[index]\n",
    "    def __len__(self):\n",
    "        return self.dataset.shape[0]\n",
    "    \n",
    "    def __smote__(self):\n",
    "        sm = SMOTE(random_state=27)\n",
    "        self.dataset, self.label = sm.fit_sample(self.dataset, self.label)"
   ]
  },
  {
   "cell_type": "code",
   "execution_count": 74,
   "metadata": {},
   "outputs": [],
   "source": [
    "# Network definition\n",
    "class LinNet(nn.Module):\n",
    "    def __init__(self, input_size, num_classes):\n",
    "        super().__init__()\n",
    "        self.fc1 = nn.Linear(input_size, 256)\n",
    "        self.fc2 = nn.Linear(256, 128)\n",
    "        self.fc3 = nn.Linear(128, 64)\n",
    "        self.fc4 = nn.Linear(64, num_classes)\n",
    "        \n",
    "        self.dropout = nn.Dropout(p=0.2)\n",
    "        \n",
    "    def forward(self, x):\n",
    "        x = x.view(x.shape[0], -1)\n",
    "        \n",
    "        x = F.relu(self.fc1(x))\n",
    "        x = F.relu(self.fc2(x))\n",
    "        x = self.dropout(F.relu(self.fc3(x)))\n",
    "        x = F.log_softmax(self.fc4(x), dim=1)\n",
    "        \n",
    "        return x\n",
    "    \n",
    "class ConvNet(nn.Module):\n",
    "    def __init__(self):\n",
    "        super(ConvNet, self).__init__()\n",
    "        self.conv1 = nn.Conv1d(1, 6, 5)\n",
    "        self.pool = nn.MaxPool1d(2, 2)\n",
    "        self.conv2 = nn.Conv1d(6, 16, 5)\n",
    "        self.fc1 = nn.Linear(1536, 256)\n",
    "        self.fc2 = nn.Linear(256, 128)\n",
    "        self.fc3 = nn.Linear(128, 64)\n",
    "        self.fc4 = nn.Linear(64, 13)\n",
    "\n",
    "    def forward(self, x):\n",
    "        x = self.pool(F.relu(self.conv1(x)))\n",
    "        x = self.pool(F.relu(self.conv2(x)))\n",
    "        x = x.view(x.size(0), -1)\n",
    "        x = F.relu(self.fc1(x))\n",
    "        x = F.relu(self.fc2(x))\n",
    "        x = F.relu(self.fc3(x))\n",
    "        x = self.fc4(x)\n",
    "        return x"
   ]
  },
  {
   "cell_type": "code",
   "execution_count": 75,
   "metadata": {},
   "outputs": [],
   "source": [
    "# Get device info\n",
    "device = torch.device('cuda' if torch.cuda.is_available() else 'cpu')"
   ]
  },
  {
   "cell_type": "code",
   "execution_count": 76,
   "metadata": {},
   "outputs": [],
   "source": [
    "# Variables\n",
    "input_size = df.shape[1]\n",
    "classes = np.unique(label)\n",
    "num_classes = len(classes)\n",
    "learning_rate = .001\n",
    "batch_size = 32\n",
    "num_epochs = 8\n",
    "path = 'cnn.pt'"
   ]
  },
  {
   "cell_type": "code",
   "execution_count": 77,
   "metadata": {},
   "outputs": [],
   "source": [
    "# Convert from DF to tensor\n",
    "train_set = Dataset(train_dataset, train_label, smote=True)\n",
    "trainloader = data.DataLoader(dataset = train_set, batch_size = batch_size, shuffle = True)\n",
    "\n",
    "test_set = Dataset(test_dataset, test_label, smote=False)\n",
    "testloader = data.DataLoader(dataset = test_set, batch_size = batch_size, shuffle = True)"
   ]
  },
  {
   "cell_type": "code",
   "execution_count": 78,
   "metadata": {},
   "outputs": [],
   "source": [
    "# Initilalize network\n",
    "\n",
    "# Conv = True for Conv : False for linear\n",
    "conv = True\n",
    "\n",
    "# model = NN(input_size=input_size, num_classes=num_classes).to(device)\n",
    "model = ConvNet().to(device)"
   ]
  },
  {
   "cell_type": "code",
   "execution_count": 79,
   "metadata": {},
   "outputs": [],
   "source": [
    "# loss and optimizer\n",
    "criterion = nn.CrossEntropyLoss()\n",
    "optimizer = optim.Adam(model.parameters(), lr = learning_rate)"
   ]
  },
  {
   "cell_type": "code",
   "execution_count": 80,
   "metadata": {},
   "outputs": [
    {
     "name": "stdout",
     "output_type": "stream",
     "text": [
      "Epoch [1/8], Iter [500] Loss: 2.0234\n",
      "Epoch [2/8], Iter [500] Loss: 2.2843\n",
      "Epoch [3/8], Iter [500] Loss: 1.6599\n",
      "Epoch [4/8], Iter [500] Loss: 1.2479\n",
      "Epoch [5/8], Iter [500] Loss: 1.5731\n",
      "Epoch [6/8], Iter [500] Loss: 1.6433\n",
      "Epoch [7/8], Iter [500] Loss: 1.3644\n",
      "Epoch [8/8], Iter [500] Loss: 1.5107\n"
     ]
    }
   ],
   "source": [
    "# Train network\n",
    "for epoch in range(num_epochs):\n",
    "    for i, (route, labels) in enumerate(trainloader):\n",
    "        route = Variable(route)\n",
    "        labels = Variable(labels)\n",
    " \n",
    "        optimizer.zero_grad()\n",
    "    \n",
    "        if conv: route = route.unsqueeze(1)\n",
    "        outputs = model(route)\n",
    "        \n",
    "        loss = criterion(outputs, labels)\n",
    "        loss.backward()\n",
    "        optimizer.step()\n",
    "        \n",
    "        if (i+1) % 500 == 0:\n",
    "            print ('Epoch [%d/%d], Iter [%d] Loss: %.4f' %(epoch+1, num_epochs, i+1, loss.data))"
   ]
  },
  {
   "cell_type": "code",
   "execution_count": 81,
   "metadata": {},
   "outputs": [
    {
     "name": "stdout",
     "output_type": "stream",
     "text": [
      "Accuracy of the network: 34.302515517804636 %\n",
      "              precision    recall  f1-score   support\n",
      "\n",
      "         0.0       0.57      0.77      0.66       933\n",
      "         1.0       0.13      0.08      0.10       178\n",
      "         2.0       0.19      0.19      0.19       428\n",
      "         3.0       0.22      0.20      0.21       352\n",
      "         4.0       0.16      0.12      0.14       133\n",
      "         5.0       0.13      0.03      0.04       319\n",
      "         6.0       0.00      0.00      0.00        11\n",
      "         7.0       0.17      0.24      0.20       422\n",
      "         8.0       0.00      0.00      0.00         9\n",
      "         9.0       0.19      0.16      0.17       187\n",
      "        10.0       0.24      0.11      0.15        53\n",
      "        11.0       0.22      0.08      0.12        24\n",
      "        12.0       0.00      0.00      0.00        12\n",
      "\n",
      "    accuracy                           0.34      3061\n",
      "   macro avg       0.17      0.15      0.15      3061\n",
      "weighted avg       0.30      0.34      0.31      3061\n",
      "\n",
      "    Difference  Counts\n",
      "0          0.0  1050.0\n",
      "1          1.0   282.0\n",
      "2          2.0   399.0\n",
      "3          3.0   206.0\n",
      "4          4.0   143.0\n",
      "5          5.0   400.0\n",
      "6          6.0   125.0\n",
      "7          7.0   357.0\n",
      "8          8.0    52.0\n",
      "9          9.0    33.0\n",
      "10        10.0    12.0\n",
      "11        11.0     1.0\n",
      "12        12.0     1.0\n",
      "Success within 1 grade: 43.515191114015025%\n"
     ]
    },
    {
     "name": "stderr",
     "output_type": "stream",
     "text": [
      "/Users/chrislb22/anaconda3/lib/python3.7/site-packages/sklearn/metrics/_classification.py:1221: UndefinedMetricWarning: Precision and F-score are ill-defined and being set to 0.0 in labels with no predicted samples. Use `zero_division` parameter to control this behavior.\n",
      "  _warn_prf(average, modifier, msg_start, len(result))\n"
     ]
    },
    {
     "data": {
      "text/plain": [
       "<BarContainer object of 13 artists>"
      ]
     },
     "execution_count": 81,
     "metadata": {},
     "output_type": "execute_result"
    },
    {
     "data": {
      "image/png": "[encoded data removed]",
      "text/plain": [
       "<Figure size 432x288 with 1 Axes>"
      ]
     },
     "metadata": {
      "needs_background": "light"
     },
     "output_type": "display_data"
    }
   ],
   "source": [
    "# Test Network\n",
    "correct = total = 0\n",
    "pred = t_label = np.array([])\n",
    "with torch.no_grad():\n",
    "    for data in testloader:\n",
    "        route, labels = data\n",
    "        if conv: route = route.unsqueeze(1)\n",
    "        outputs = model(route)\n",
    "        _, predicted = torch.max(outputs.data, 1)\n",
    "        pred = np.append(predicted.numpy(), pred)\n",
    "        t_label = np.append(labels.numpy(), t_label)\n",
    "        total += labels.size(0)\n",
    "        correct += (predicted == labels).sum().item()\n",
    "\n",
    "print('Accuracy of the network: {accuracy} %'.format(accuracy=100 * correct / total))\n",
    "\n",
    "print(classification_report(t_label, pred))\n",
    "\n",
    "difference = abs(pred - t_label)\n",
    "data = np.array(np.unique(difference, return_counts=True))\n",
    "print(pd.DataFrame({'Difference': data[0], 'Counts': data[1]}))\n",
    "\n",
    "# Successes within X grades\n",
    "g_range = 1\n",
    "trials = sum(data[1])\n",
    "rel_successes = sum([ elem for cnt, elem in enumerate(data[1]) if cnt <= g_range])\n",
    "print('Success within {g_range} grade{s}: {percent}%'.format(percent=(rel_successes/trials) * 100, g_range=g_range, s='s' if g_range > 1 else ''))\n",
    "\n",
    "plt.bar(data[0], data[1], color='green')"
   ]
  },
  {
   "cell_type": "code",
   "execution_count": 82,
   "metadata": {},
   "outputs": [
    {
     "name": "stderr",
     "output_type": "stream",
     "text": [
      "/Users/chrislb22/anaconda3/lib/python3.7/site-packages/torch/serialization.py:402: UserWarning: Couldn't retrieve source code for container of type ConvNet. It won't be checked for correctness upon loading.\n",
      "  \"type \" + obj.__name__ + \". It won't be checked \"\n"
     ]
    }
   ],
   "source": [
    "# Save\n",
    "torch.save(model, PATH)"
   ]
  },
  {
   "cell_type": "code",
   "execution_count": null,
   "metadata": {},
   "outputs": [],
   "source": []
  }
 ],
 "metadata": {
  "kernelspec": {
   "display_name": "Python 3",
   "language": "python",
   "name": "python3"
  },
  "language_info": {
   "codemirror_mode": {
    "name": "ipython",
    "version": 3
   },
   "file_extension": ".py",
   "mimetype": "text/x-python",
   "name": "python",
   "nbconvert_exporter": "python",
   "pygments_lexer": "ipython3",
   "version": "3.7.3"
  }
 },
 "nbformat": 4,
 "nbformat_minor": 2
}
