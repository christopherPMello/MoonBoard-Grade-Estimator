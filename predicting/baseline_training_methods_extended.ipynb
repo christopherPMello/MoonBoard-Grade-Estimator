{
 "cells": [
  {
   "cell_type": "code",
   "execution_count": 36,
   "metadata": {},
   "outputs": [],
   "source": [
    "import pandas as pd\n",
    "import os, json \n",
    "from sklearn.model_selection import train_test_split\n",
    "import matplotlib.pyplot as plt\n",
    "from imblearn.over_sampling import SMOTE"
   ]
  },
  {
   "cell_type": "code",
   "execution_count": 37,
   "metadata": {},
   "outputs": [],
   "source": [
    "from sklearn.model_selection import train_test_split\n",
    "from sklearn.linear_model import LinearRegression\n",
    "from sklearn.tree import DecisionTreeClassifier\n",
    "from sklearn.ensemble import RandomForestClassifier\n",
    "from sklearn.metrics import classification_report, confusion_matrix\n",
    "from sklearn.svm import SVC\n",
    "from sklearn.naive_bayes import GaussianNB"
   ]
  },
  {
   "cell_type": "code",
   "execution_count": 38,
   "metadata": {},
   "outputs": [],
   "source": [
    "import torch\n",
    "from torchvision import transforms, datasets\n",
    "import matplotlib.pyplot as plt\n",
    "import torch.nn as nn \n",
    "import torch.nn.functional as F\n",
    "import torch.optim as optim"
   ]
  },
  {
   "cell_type": "code",
   "execution_count": 39,
   "metadata": {},
   "outputs": [],
   "source": [
    "df = pd.read_pickle(\"./problemsV3.pkl\")\n",
    "# df.grade.value_counts()"
   ]
  },
  {
   "cell_type": "code",
   "execution_count": 40,
   "metadata": {},
   "outputs": [],
   "source": [
    "y = df.grade\n",
    "x = df.drop(['grade', 'name'], axis=1)\n",
    "x_train, x_test, y_train, y_test = train_test_split(x, y, test_size=.333, stratify=y)"
   ]
  },
  {
   "cell_type": "code",
   "execution_count": 41,
   "metadata": {},
   "outputs": [],
   "source": [
    "sm = SMOTE()\n",
    "x_train, y_train = sm.fit_sample(x_train, y_train)\n",
    "# y_train.value_counts()"
   ]
  },
  {
   "cell_type": "code",
   "execution_count": 42,
   "metadata": {},
   "outputs": [
    {
     "name": "stdout",
     "output_type": "stream",
     "text": [
      "              precision    recall  f1-score   support\n",
      "\n",
      "           9       0.29      0.20      0.24      1035\n",
      "          10       0.09      0.37      0.15       354\n",
      "          11       0.17      0.06      0.09       468\n",
      "          12       0.10      0.04      0.06       475\n",
      "          13       0.12      0.09      0.10       391\n",
      "          14       0.06      0.05      0.05       198\n",
      "          15       0.09      0.06      0.07       207\n",
      "          16       0.05      0.04      0.04       148\n",
      "          17       0.02      0.03      0.02        59\n",
      "          18       0.02      0.04      0.03        27\n",
      "          19       0.00      0.00      0.00        12\n",
      "          20       0.00      0.00      0.00        10\n",
      "          21       0.07      0.08      0.07        13\n",
      "\n",
      "    accuracy                           0.13      3397\n",
      "   macro avg       0.08      0.08      0.07      3397\n",
      "weighted avg       0.16      0.13      0.13      3397\n",
      "\n"
     ]
    }
   ],
   "source": [
    "#SVM\n",
    "svc_model = SVC()\n",
    "svc_model.fit(x_train, y_train).predict(x_test)\n",
    "print(classification_report(y_test, predict))"
   ]
  },
  {
   "cell_type": "code",
   "execution_count": 43,
   "metadata": {},
   "outputs": [
    {
     "name": "stdout",
     "output_type": "stream",
     "text": [
      "              precision    recall  f1-score   support\n",
      "\n",
      "           9       0.29      0.20      0.24      1035\n",
      "          10       0.09      0.37      0.15       354\n",
      "          11       0.17      0.06      0.09       468\n",
      "          12       0.10      0.04      0.06       475\n",
      "          13       0.12      0.09      0.10       391\n",
      "          14       0.06      0.05      0.05       198\n",
      "          15       0.09      0.06      0.07       207\n",
      "          16       0.05      0.04      0.04       148\n",
      "          17       0.02      0.03      0.02        59\n",
      "          18       0.02      0.04      0.03        27\n",
      "          19       0.00      0.00      0.00        12\n",
      "          20       0.00      0.00      0.00        10\n",
      "          21       0.07      0.08      0.07        13\n",
      "\n",
      "    accuracy                           0.13      3397\n",
      "   macro avg       0.08      0.08      0.07      3397\n",
      "weighted avg       0.16      0.13      0.13      3397\n",
      "\n"
     ]
    }
   ],
   "source": [
    "#Random Forest\n",
    "random_forest = RandomForestClassifier()\n",
    "random_forest.fit(x_train, y_train).predict(x_test)\n",
    "print(classification_report(y_test, predict))"
   ]
  },
  {
   "cell_type": "code",
   "execution_count": 44,
   "metadata": {},
   "outputs": [
    {
     "name": "stdout",
     "output_type": "stream",
     "text": [
      "              precision    recall  f1-score   support\n",
      "\n",
      "           9       0.41      0.25      0.31      1035\n",
      "          10       0.12      0.46      0.19       354\n",
      "          11       0.15      0.07      0.09       468\n",
      "          12       0.18      0.09      0.12       475\n",
      "          13       0.17      0.13      0.15       391\n",
      "          14       0.08      0.05      0.06       198\n",
      "          15       0.22      0.14      0.17       207\n",
      "          16       0.16      0.14      0.15       148\n",
      "          17       0.08      0.14      0.10        59\n",
      "          18       0.05      0.22      0.08        27\n",
      "          19       0.00      0.00      0.00        12\n",
      "          20       0.00      0.00      0.00        10\n",
      "          21       0.00      0.00      0.00        13\n",
      "\n",
      "    accuracy                           0.18      3397\n",
      "   macro avg       0.12      0.13      0.11      3397\n",
      "weighted avg       0.23      0.18      0.18      3397\n",
      "\n"
     ]
    }
   ],
   "source": [
    "#Naive Bayes\n",
    "gnb = GaussianNB()\n",
    "predict = gnb.fit(x_train, y_train).predict(x_test)\n",
    "print(classification_report(y_test, predict))"
   ]
  },
  {
   "cell_type": "code",
   "execution_count": null,
   "metadata": {},
   "outputs": [],
   "source": []
  }
 ],
 "metadata": {
  "kernelspec": {
   "display_name": "Python 3",
   "language": "python",
   "name": "python3"
  },
  "language_info": {
   "codemirror_mode": {
    "name": "ipython",
    "version": 3
   },
   "file_extension": ".py",
   "mimetype": "text/x-python",
   "name": "python",
   "nbconvert_exporter": "python",
   "pygments_lexer": "ipython3",
   "version": "3.7.3"
  }
 },
 "nbformat": 4,
 "nbformat_minor": 2
}
