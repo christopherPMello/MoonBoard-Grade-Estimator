{
 "cells": [
  {
   "cell_type": "code",
   "execution_count": 3,
   "metadata": {},
   "outputs": [],
   "source": [
    "import pandas as pd\n",
    "import os, json \n",
    "from conversion_functions import create_hold_maps, item_generator, climbing_grade_to_number"
   ]
  },
  {
   "cell_type": "code",
   "execution_count": 2,
   "metadata": {},
   "outputs": [],
   "source": [
    "# Read in JSON file\n",
    "json_data = list()\n",
    "pth = os.getcwd() + '/mb_problems/consolidatedfiles.json'\n",
    "\n",
    "with open (pth, \"r\") as f:\n",
    "    json_data.append(json.load(f))"
   ]
  },
  {
   "cell_type": "code",
   "execution_count": 3,
   "metadata": {},
   "outputs": [],
   "source": [
    "# # Import single JSON file\n",
    "# x = list()\n",
    "# pth = os.getcwd() + '/MB_Problems/site_problems_2017-05-05_10-53-20.json'\n",
    "# json_folder_path = os.path.join(pth)\n",
    "# with open (json_file_path, \"r\") as f:\n",
    "#     x.append(json.load(f))"
   ]
  },
  {
   "cell_type": "code",
   "execution_count": 4,
   "metadata": {},
   "outputs": [],
   "source": [
    "#used to combine and create a JSON file of all routes\n",
    "\n",
    "# pth = os.getcwd() + '/MB_Problems'\n",
    "# json_folder_path = os.path.join(pth)\n",
    "# # In order to get the list of all files that ends with \".json\"\n",
    "# # we will get list of all files, and take only the ones that ends with \"json\"\n",
    "# json_files = [ x for x in os.listdir(json_folder_path) if x.endswith(\"json\") ]\n",
    "# json_data = list()\n",
    "# for json_file in json_files:\n",
    "#     json_file_path = os.path.join(json_folder_path, json_file)\n",
    "#     with open (json_file_path, \"r\") as f:\n",
    "#         json_data.append(json.load(f))\n",
    "\n",
    "# # now after iterate all the files, we have the data in the array, so we can just write it to file\n",
    "# output_path = os.path.join(json_folder_path,\"output.json\")\n",
    "# with open (output_path, \"w\") as f:\n",
    "#     json.dump(json_data, f)"
   ]
  },
  {
   "cell_type": "code",
   "execution_count": 5,
   "metadata": {},
   "outputs": [],
   "source": [
    "# Iterate through JSON file and grab all routes for the criteria below\n",
    "list_of_criteria = ['holds_setup', 'name', 'author', 'grade', 'holds']\n",
    "problems = list()\n",
    "\n",
    "for cnt, elem in enumerate(list_of_criteria):\n",
    "    problems.append([])\n",
    "    for item in json_data:\n",
    "        for i in item_generator(item, elem):\n",
    "            problems[cnt].append(i)\n",
    "            \n",
    "problems = pd.DataFrame(problems).T"
   ]
  },
  {
   "cell_type": "code",
   "execution_count": 6,
   "metadata": {},
   "outputs": [],
   "source": [
    "cols_in_order = []\n",
    "for k in range(1, 19):\n",
    "    for j in ['A','B','C','D','E','F','G','H','I','J','K']:\n",
    "        cols_in_order.append(\"{type}{col}{row}\".format(type = \"I\", col = j, row=k))\n",
    "        cols_in_order.append(\"{type}{col}{row}\".format(type = \"F\", col = j, row=k))\n",
    "\n",
    "final_problem_df = pd.DataFrame(None, columns=cols_in_order)\n",
    "\n",
    "# Transfer name and grade values over\n",
    "final_problem_df['name'] = problems[1].values\n",
    "final_problem_df['grade'] = problems[3].values"
   ]
  },
  {
   "cell_type": "code",
   "execution_count": 7,
   "metadata": {},
   "outputs": [],
   "source": [
    "#Tally holds used\n",
    "for cnt, elem in enumerate(problems[4].values):\n",
    "    for i in elem['FH']:\n",
    "        col = \"F\" + i\n",
    "        final_problem_df[col][cnt] = 1\n",
    "    for i in elem['IH']:\n",
    "        col = \"I\" + i\n",
    "        final_problem_df[col][cnt] = 1\n",
    "    for i in elem['SH']:\n",
    "        col = \"I\" + i\n",
    "        final_problem_df[col][cnt] = 1"
   ]
  },
  {
   "cell_type": "code",
   "execution_count": 8,
   "metadata": {},
   "outputs": [],
   "source": [
    "# Change grades to numerical value\n",
    "for cnt, elem in enumerate(problems[3].values):\n",
    "    final_problem_df['grade'][cnt] = climbing_grade_to_number(final_problem_df['grade'][cnt])"
   ]
  },
  {
   "cell_type": "code",
   "execution_count": 9,
   "metadata": {},
   "outputs": [],
   "source": [
    "#Fill nulls and drop duplicates\n",
    "final_problem_df = final_problem_df.fillna(0)\n",
    "final_problem_df = final_problem_df.drop_duplicates()"
   ]
  },
  {
   "cell_type": "code",
   "execution_count": 10,
   "metadata": {},
   "outputs": [],
   "source": [
    "#Pickle dataframe\n",
    "final_problem_df.to_pickle(\"./problemsV2.pkl\")"
   ]
  },
  {
   "cell_type": "code",
   "execution_count": 38,
   "metadata": {},
   "outputs": [],
   "source": [
    "df = pd.read_pickle('./problemsV5.pkl')"
   ]
  },
  {
   "cell_type": "code",
   "execution_count": 65,
   "metadata": {},
   "outputs": [],
   "source": [
    "largest_move = []\n",
    "for rows in range(df.shape[0]):\n",
    "    holds, h_cnt, largest_jump = {}, 0, 0\n",
    "    for cnt, col in enumerate(cols_in_order):\n",
    "        if df.loc[rows,col] == 1:\n",
    "            holds[h_cnt] = (ord(col[1]), int(col[2:]))\n",
    "            if h_cnt > 0:\n",
    "                largest_jump = abs(holds[h_cnt][0] - holds[h_cnt-1][0]) +  abs(holds[h_cnt][1] - holds[h_cnt-1][1])\n",
    "            h_cnt += 1\n",
    "    largest_move.append(largest_jump)"
   ]
  },
  {
   "cell_type": "code",
   "execution_count": 92,
   "metadata": {},
   "outputs": [],
   "source": [
    "number_of_holds = []\n",
    "for rows in range(df.shape[0]):\n",
    "    d = df.iloc[rows]\n",
    "    sel = df.iloc[rows] == 1\n",
    "    number_of_holds.append(len(d[sel]))"
   ]
  }
 ],
 "metadata": {
  "kernelspec": {
   "display_name": "Python 3",
   "language": "python",
   "name": "python3"
  },
  "language_info": {
   "codemirror_mode": {
    "name": "ipython",
    "version": 3
   },
   "file_extension": ".py",
   "mimetype": "text/x-python",
   "name": "python",
   "nbconvert_exporter": "python",
   "pygments_lexer": "ipython3",
   "version": "3.7.3"
  }
 },
 "nbformat": 4,
 "nbformat_minor": 2
}
