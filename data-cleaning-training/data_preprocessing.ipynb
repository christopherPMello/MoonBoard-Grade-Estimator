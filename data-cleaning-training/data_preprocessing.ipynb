{
 "cells": [
  {
   "cell_type": "code",
   "execution_count": 1,
   "metadata": {},
   "outputs": [],
   "source": [
    "import pandas as pd\n",
    "import os, json \n",
    "from conversion_functions import create_hold_maps, item_generator, climbing_grade_to_number"
   ]
  },
  {
   "cell_type": "code",
   "execution_count": 2,
   "metadata": {},
   "outputs": [],
   "source": [
    "# Read in JSON file\n",
    "json_data = list()\n",
    "pth = os.getcwd() + '/mb_problems/consolidatedfiles.json'\n",
    "\n",
    "with open (pth, \"r\") as f:\n",
    "    json_data.append(json.load(f))"
   ]
  },
  {
   "cell_type": "code",
   "execution_count": 3,
   "metadata": {},
   "outputs": [],
   "source": [
    "# # Import single JSON file\n",
    "# x = list()\n",
    "# pth = os.getcwd() + '/MB_Problems/site_problems_2017-05-05_10-53-20.json'\n",
    "# json_folder_path = os.path.join(pth)\n",
    "# with open (json_file_path, \"r\") as f:\n",
    "#     x.append(json.load(f))"
   ]
  },
  {
   "cell_type": "code",
   "execution_count": 4,
   "metadata": {},
   "outputs": [],
   "source": [
    "#used to combine and create a JSON file of all routes\n",
    "\n",
    "# pth = os.getcwd() + '/MB_Problems'\n",
    "# json_folder_path = os.path.join(pth)\n",
    "# # In order to get the list of all files that ends with \".json\"\n",
    "# # we will get list of all files, and take only the ones that ends with \"json\"\n",
    "# json_files = [ x for x in os.listdir(json_folder_path) if x.endswith(\"json\") ]\n",
    "# json_data = list()\n",
    "# for json_file in json_files:\n",
    "#     json_file_path = os.path.join(json_folder_path, json_file)\n",
    "#     with open (json_file_path, \"r\") as f:\n",
    "#         json_data.append(json.load(f))\n",
    "\n",
    "# # now after iterate all the files, we have the data in the array, so we can just write it to file\n",
    "# output_path = os.path.join(json_folder_path,\"output.json\")\n",
    "# with open (output_path, \"w\") as f:\n",
    "#     json.dump(json_data, f)"
   ]
  },
  {
   "cell_type": "code",
   "execution_count": 5,
   "metadata": {},
   "outputs": [],
   "source": [
    "# Iterate through JSON file and grab all routes for the criteria below\n",
    "list_of_criteria = ['holds_setup', 'name', 'author', 'grade', 'holds']\n",
    "problems = list()\n",
    "\n",
    "for cnt, elem in enumerate(list_of_criteria):\n",
    "    problems.append([])\n",
    "    for item in json_data:\n",
    "        for i in item_generator(item, elem):\n",
    "            problems[cnt].append(i)\n",
    "            \n",
    "problems = pd.DataFrame(problems).T"
   ]
  },
  {
   "cell_type": "code",
   "execution_count": 6,
   "metadata": {},
   "outputs": [],
   "source": [
    "final_problem_df = pd.DataFrame(None, columns=['name','grade','IA1','IB1','IC1','ID1','IE1','IF1','IG1','IH1','II1','IJ1','IK1','IA2','IB2','IC2','ID2','IE2','IF2','IG2','IH2','II2','IJ2','IK2','IA3','IB3','IC3','ID3','IE3','IF3','IG3','IH3','II3','IJ3','IK3','IA4','IB4','IC4','ID4','IE4','IF4','IG4','IH4','II4','IJ4','IK4','IA5','IB5','IC5','ID5','IE5','IF5','IG5','IH5','II5','IJ5','IK5','IA6','IB6','IC6','ID6','IE6','IF6','IG6','IH6','II6','IJ6','IK6','IA7','IB7','IC7','ID7','IE7','IF7','IG7','IH7','II7','IJ7','IK7','IA8','IB8','IC8','ID8','IE8','IF8','IG8','IH8','II8','IJ8','IK8','IA9','IB9','IC9','ID9','IE9','IF9','IG9','IH9','II9','IJ9','IK9','IA10','IB10','IC10','ID10','IE10','IF10','IG10','IH10','II10','IJ10','IK10','IA11','IB11','IC11','ID11','IE11','IF11','IG11','IH11','II11','IJ11','IK11','IA12','IB12','IC12','ID12','IE12','IF12','IG12','IH12','II12','IJ12','IK12','IA13','IB13','IC13','ID13','IE13','IF13','IG13','IH13','II13','IJ13','IK13','IA14','IB14','IC14','ID14','IE14','IF14','IG14','IH14','II14','IJ14','IK14','IA15','IB15','IC15','ID15','IE15','IF15','IG15','IH15','II15','IJ15','IK15','IA16','IB16','IC16','ID16','IE16','IF16','IG16','IH16','II16','IJ16','IK16','IA17','IB17','IC17','ID17','IE17','IF17','IG17','IH17','II17','IJ17','IK17','IA18','IB18','IC18','ID18','IE18','IF18','IG18','IH18','II18','IJ18','IK18','FA1','FB1','FC1','FD1','FE1','FF1','FG1','FH1','FI1','FJ1','FK1','FA2','FB2','FC2','FD2','FE2','FF2','FG2','FH2','FI2','FJ2','FK2','FA3','FB3','FC3','FD3','FE3','FF3','FG3','FH3','FI3','FJ3','FK3','FA4','FB4','FC4','FD4','FE4','FF4','FG4','FH4','FI4','FJ4','FK4','FA5','FB5','FC5','FD5','FE5','FF5','FG5','FH5','FI5','FJ5','FK5','FA6','FB6','FC6','FD6','FE6','FF6','FG6','FH6','FI6','FJ6','FK6','FA7','FB7','FC7','FD7','FE7','FF7','FG7','FH7','FI7','FJ7','FK7','FA8','FB8','FC8','FD8','FE8','FF8','FG8','FH8','FI8','FJ8','FK8','FA9','FB9','FC9','FD9','FE9','FF9','FG9','FH9','FI9','FJ9','FK9','FA10','FB10','FC10','FD10','FE10','FF10','FG10','FH10','FI10','FJ10','FK10','FA11','FB11','FC11','FD11','FE11','FF11','FG11','FH11','FI11','FJ11','FK11','FA12','FB12','FC12','FD12','FE12','FF12','FG12','FH12','FI12','FJ12','FK12','FA13','FB13','FC13','FD13','FE13','FF13','FG13','FH13','FI13','FJ13','FK13','FA14','FB14','FC14','FD14','FE14','FF14','FG14','FH14','FI14','FJ14','FK14','FA15','FB15','FC15','FD15','FE15','FF15','FG15','FH15','FI15','FJ15','FK15','FA16','FB16','FC16','FD16','FE16','FF16','FG16','FH16','FI16','FJ16','FK16','FA17','FB17','FC17','FD17','FE17','FF17','FG17','FH17','FI17','FJ17','FK17','FA18','FB18','FC18','FD18','FE18','FF18','FG18','FH18','FI18','FJ18','FK18'])\n",
    "\n",
    "# Transfer name and grade values over\n",
    "final_problem_df['name'] = problems[1].values\n",
    "final_problem_df['grade'] = problems[3].values"
   ]
  },
  {
   "cell_type": "code",
   "execution_count": 7,
   "metadata": {},
   "outputs": [],
   "source": [
    "#Tally holds used\n",
    "for cnt, elem in enumerate(problems[4].values):\n",
    "    for i in elem['FH']:\n",
    "        col = \"F\" + i\n",
    "        final_problem_df[col][cnt] = 1\n",
    "    for i in elem['IH']:\n",
    "        col = \"I\" + i\n",
    "        final_problem_df[col][cnt] = 1\n",
    "    for i in elem['SH']:\n",
    "        col = \"I\" + i\n",
    "        final_problem_df[col][cnt] = 1"
   ]
  },
  {
   "cell_type": "code",
   "execution_count": 8,
   "metadata": {},
   "outputs": [],
   "source": [
    "# Change grades to numerical value\n",
    "for cnt, elem in enumerate(problems[3].values):\n",
    "    final_problem_df['grade'][cnt] = climbing_grade_to_number(final_problem_df['grade'][cnt])"
   ]
  },
  {
   "cell_type": "code",
   "execution_count": 9,
   "metadata": {},
   "outputs": [],
   "source": [
    "#Fill nulls and drop duplicates\n",
    "final_problem_df = final_problem_df.fillna(0)\n",
    "final_problem_df = final_problem_df.drop_duplicates()"
   ]
  },
  {
   "cell_type": "code",
   "execution_count": 10,
   "metadata": {},
   "outputs": [],
   "source": [
    "#Pickle dataframe\n",
    "final_problem_df.to_pickle(\"./problemsV2.pkl\")"
   ]
  },
  {
   "cell_type": "code",
   "execution_count": null,
   "metadata": {},
   "outputs": [],
   "source": []
  }
 ],
 "metadata": {
  "kernelspec": {
   "display_name": "Python 3",
   "language": "python",
   "name": "python3"
  },
  "language_info": {
   "codemirror_mode": {
    "name": "ipython",
    "version": 3
   },
   "file_extension": ".py",
   "mimetype": "text/x-python",
   "name": "python",
   "nbconvert_exporter": "python",
   "pygments_lexer": "ipython3",
   "version": "3.7.3"
  }
 },
 "nbformat": 4,
 "nbformat_minor": 2
}
