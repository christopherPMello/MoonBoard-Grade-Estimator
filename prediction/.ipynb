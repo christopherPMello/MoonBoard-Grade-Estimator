{
 "cells": [
  {
   "cell_type": "code",
   "execution_count": 333,
   "metadata": {},
   "outputs": [],
   "source": [
    "import numpy as np\n",
    "import pandas as pd\n",
    "import os, json \n",
    "from sklearn.utils import shuffle\n",
    "import torch\n",
    "from torch import nn, optim\n",
    "import torch.nn.functional as F\n",
    "import torchvision.transforms as transforms\n",
    "import torch.utils.data as data\n",
    "from torch.autograd import Variable"
   ]
  },
  {
   "cell_type": "code",
   "execution_count": 334,
   "metadata": {},
   "outputs": [],
   "source": [
    "from torch import nn, optim\n",
    "import torch.nn.functional as F\n",
    "import torch.utils.data as data\n",
    "import torch\n",
    "\n",
    "class MinstDataset(data.Dataset):\n",
    "    def __init__(self):\n",
    "        train = pd.read_csv(\"./problemsV4.pkl\")\n",
    "        train_labels = train['grade'].values\n",
    "        train = train.drop(\"grade\",axis=1)\n",
    "        self.datalist = train\n",
    "        self.labels = train_labels\n",
    "    def __getitem__(self, index):\n",
    "        return torch.Tensor(self.datalist[index].astype(float)), self.labels[index]\n",
    "    def __len__(self):\n",
    "        return self.datalist.shape[0]\n",
    "\n",
    "train_Set = MinstDataset()\n",
    "trainloader = torch.utils.data.DataLoader( dataset = train_Set , batch_size= 64 , shuffle = True)"
   ]
  },
  {
   "cell_type": "code",
   "execution_count": 335,
   "metadata": {},
   "outputs": [],
   "source": [
    "class Classifier(nn.Module):\n",
    "    def __init__(self):\n",
    "        super().__init__()\n",
    "        self.fc1 = nn.Linear(784, 512)\n",
    "        self.fc2 = nn.Linear(512, 256)\n",
    "        self.fc3 = nn.Linear(256, 128)\n",
    "        self.fc4 = nn.Linear(128, 10)\n",
    "        \n",
    "        self.dropout = nn.Dropout(p=0.2)\n",
    "        \n",
    "    def forward(self, x):\n",
    "        x = x.view(x.shape[0], -1)\n",
    "        \n",
    "        x = F.relu(self.fc1(x))\n",
    "        x = F.relu(self.fc2(x))\n",
    "        x = self.dropout(F.relu(self.fc3(x)))\n",
    "        x = F.log_softmax(self.fc4(x), dim=1)\n",
    "        \n",
    "        return x"
   ]
  },
  {
   "cell_type": "code",
   "execution_count": null,
   "metadata": {},
   "outputs": [],
   "source": [
    "model = Classifier()\n",
    "criterion = nn.NLLLoss()\n",
    "optimizer = optim.Adam(model.parameters(), lr=0.003)"
   ]
  },
  {
   "cell_type": "code",
   "execution_count": null,
   "metadata": {},
   "outputs": [],
   "source": [
    "from torch.autograd import Variable\n",
    "for epoch in range(20):\n",
    "    for i, (images, labels) in enumerate(trainloader):\n",
    "        images = Variable(images)\n",
    "        labels = Variable(labels)\n",
    "        \n",
    "        optimizer.zero_grad()\n",
    "        outputs = model(images)\n",
    "        \n",
    "        loss = criterion(outputs, labels)\n",
    "        loss.backward()\n",
    "        optimizer.step()\n",
    "        \n",
    "        if (i+1) % 100 == 0:\n",
    "            print ('Epoch [%d/%d], Iter [%d] Loss: %.4f' %(epoch+1, 10, i+1, loss.data[0]))"
   ]
  },
  {
   "cell_type": "code",
   "execution_count": null,
   "metadata": {},
   "outputs": [],
   "source": [
    "model.eval()\n",
    "test = pd.read_csv(\"../input/test.csv\")\n",
    "test = test.values.reshape(28000,1,28,28).astype(float)\n",
    "test = Variable(torch.Tensor(test))\n",
    "\n",
    "pred = model(test)\n",
    "\n",
    "_, predlabel = torch.max(pred.data, 1)\n",
    "predlabel = predlabel.tolist()\n",
    "\n",
    "predlabel = pd.DataFrame(predlabel)\n",
    "predlabel.index = np.arange(28000) + 1\n",
    "id = np.arange(28000) + 1\n",
    "id = pd.DataFrame(id)\n",
    "id.index = id.index + 1\n",
    "\n",
    "predlabel = pd.concat([id,predlabel], axis=1)\n",
    "predlabel.columns = [\"ImageId\", \"Label\"]\n",
    "\n",
    "predlabel.to_csv('predict.csv', index= False)"
   ]
  }
 ],
 "metadata": {
  "kernelspec": {
   "display_name": "Python 3",
   "language": "python",
   "name": "python3"
  },
  "language_info": {
   "codemirror_mode": {
    "name": "ipython",
    "version": 3
   },
   "file_extension": ".py",
   "mimetype": "text/x-python",
   "name": "python",
   "nbconvert_exporter": "python",
   "pygments_lexer": "ipython3",
   "version": "3.7.3"
  }
 },
 "nbformat": 4,
 "nbformat_minor": 2
}
